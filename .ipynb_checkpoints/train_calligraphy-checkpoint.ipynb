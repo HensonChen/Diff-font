{
 "cells": [
  {
   "cell_type": "code",
   "execution_count": 2,
   "id": "f0c439cb",
   "metadata": {},
   "outputs": [
    {
     "name": "stderr",
     "output_type": "stream",
     "text": [
      "usage: ipykernel_launcher.py [-h] [--ttf_path TTF_PATH] [--chara CHARA]\n",
      "                             [--save_path SAVE_PATH] [--img_size IMG_SIZE]\n",
      "                             [--chara_size CHARA_SIZE]\n",
      "ipykernel_launcher.py: error: unrecognized arguments: -f /Users/hensonchen/Library/Jupyter/runtime/kernel-c5d4fde8-5fcc-45f9-acd9-14890cc51eca.json\n"
     ]
    },
    {
     "ename": "SystemExit",
     "evalue": "2",
     "output_type": "error",
     "traceback": [
      "An exception has occurred, use %tb to see the full traceback.\n",
      "\u001b[0;31mSystemExit\u001b[0m\u001b[0;31m:\u001b[0m 2\n"
     ]
    },
    {
     "name": "stderr",
     "output_type": "stream",
     "text": [
      "/Users/hensonchen/Documents/pytorch-test/env/lib/python3.8/site-packages/IPython/core/interactiveshell.py:3513: UserWarning: To exit: use 'exit', 'quit', or Ctrl-D.\n",
      "  warn(\"To exit: use 'exit', 'quit', or Ctrl-D.\", stacklevel=1)\n"
     ]
    }
   ],
   "source": [
    "!python font2img.py --ttf_path ttf_folder --chara total_chn.txt --save_path save_folder --img_size 80 --chara_size 60"
   ]
  },
  {
   "cell_type": "code",
   "execution_count": 6,
   "id": "8b71f5e7",
   "metadata": {},
   "outputs": [],
   "source": [
    "args = {\n",
    "    \"ttf_path\": \"ttf_folder\",\n",
    "    \"chara\": \"total_chn.txt\",\n",
    "    \"save_path\": \"save_folder\",\n",
    "    \"img_size\": 80,\n",
    "    \"chara_size\": 60,\n",
    "}"
   ]
  },
  {
   "cell_type": "code",
   "execution_count": null,
   "id": "1e1d81b3",
   "metadata": {},
   "outputs": [],
   "source": [
    "from PIL import Image,ImageDraw,ImageFont\n",
    "import matplotlib.pyplot as plt\n",
    "import os\n",
    "import numpy as np\n",
    "import pathlib\n",
    "import argparse\n",
    "from fontTools.ttLib import TTFont\n",
    "\n",
    "\n",
    "# parser = argparse.ArgumentParser(description='Obtaining characters from .ttf')\n",
    "# parser.add_argument('--ttf_path', type=str, default='../ttf_folder',help='ttf directory')\n",
    "# parser.add_argument('--chara', type=str, default='../chara.txt',help='characters')\n",
    "# parser.add_argument('--save_path', type=str, default='../save_folder',help='images directory')\n",
    "# parser.add_argument('--img_size', type=int, help='The size of generated images')\n",
    "# parser.add_argument('--chara_size', type=int, help='The size of generated characters')\n",
    "# args = parser.parse_args()\n",
    "\n",
    "file_object = open(args.chara,encoding='utf-8')   \n",
    "try:\n",
    "\tcharacters = file_object.read()\n",
    "finally:\n",
    "    file_object.close()\n",
    "\n",
    "\n",
    "def draw_single_char(ch, font, canvas_size, x_offset, y_offset):\n",
    "    img = Image.new(\"RGB\", (canvas_size, canvas_size), (255, 255, 255))\n",
    "    draw = ImageDraw.Draw(img)\n",
    "    draw.text((x_offset, y_offset), ch, (0, 0, 0), font=font)\n",
    "    return img\n",
    "\n",
    "def draw_example(ch, src_font, canvas_size, x_offset, y_offset):\n",
    "    src_img = draw_single_char(ch, src_font, canvas_size, x_offset, y_offset)\n",
    "    example_img = Image.new(\"RGB\", (canvas_size, canvas_size), (255, 255, 255))\n",
    "    example_img.paste(src_img, (0, 0))\n",
    "    return example_img\n",
    "\n",
    "data_dir = args.ttf_path\n",
    "data_root = pathlib.Path(data_dir)\n",
    "print(data_root)\n",
    "\n",
    "all_image_paths = list(data_root.glob('*.*'))  # *.ttf TTF\n",
    "all_image_paths = [str(path) for path in all_image_paths]\n",
    "total_num = len(all_image_paths)\n",
    "print(total_num)\n",
    "\n",
    "seq = list()\n",
    "\n",
    "if not os.path.exists(args.save_path):\n",
    "    os.mkdir(args.save_path)\n",
    "\n",
    "def get_char_list_from_ttf(font_file):\n",
    "    f_obj = TTFont(font_file)\n",
    "    m_dict = f_obj.getBestCmap()\n",
    "\n",
    "    unicode_list = []\n",
    "    for key, uni in m_dict.items():\n",
    "        unicode_list.append(key)\n",
    "\n",
    "    char_list = [chr(ch_unicode) for ch_unicode in unicode_list]\n",
    "    return char_list\n",
    "\n",
    "for idx, (label, item) in enumerate(zip(range(len(all_image_paths)),all_image_paths)):\n",
    "    print(\"{} / {} \".format(idx, total_num), item)\n",
    "    src_font = ImageFont.truetype(item, size=args.chara_size)\n",
    "    font_name = item.split('/')[-1].split('.')[0]\n",
    "    chars = get_char_list_from_ttf(item)  #\n",
    "    img_cnt = 0\n",
    "    for (chara, cnt) in zip(characters, range(len(characters))):\n",
    "        img = draw_example(chara, src_font, args.img_size, (args.img_size-args.chara_size)/2, (args.img_size-args.chara_size)/2)\n",
    "        path_full = os.path.join(args.save_path, 'id_%d'%(label))\n",
    "        if not os.path.exists(path_full):\n",
    "            os.mkdir(path_full)\n",
    "        if np.sum(np.array(img) / 255.) < 18000:\n",
    "            img_cnt += 1\n",
    "            img.save(os.path.join(path_full, \"%05d.png\" % (cnt)))\n",
    "\n",
    "\n"
   ]
  }
 ],
 "metadata": {
  "kernelspec": {
   "display_name": "Python 3 (ipykernel)",
   "language": "python",
   "name": "python3"
  },
  "language_info": {
   "codemirror_mode": {
    "name": "ipython",
    "version": 3
   },
   "file_extension": ".py",
   "mimetype": "text/x-python",
   "name": "python",
   "nbconvert_exporter": "python",
   "pygments_lexer": "ipython3",
   "version": "3.8.16"
  }
 },
 "nbformat": 4,
 "nbformat_minor": 5
}
